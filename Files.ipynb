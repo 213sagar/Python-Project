{
 "cells": [
  {
   "cell_type": "markdown",
   "source": [
    "## FILES IO "
   ],
   "metadata": {}
  },
  {
   "cell_type": "code",
   "execution_count": 1,
   "source": [
    "print('sagar')"
   ],
   "outputs": [
    {
     "output_type": "stream",
     "name": "stdout",
     "text": [
      "sagar\n"
     ]
    }
   ],
   "metadata": {}
  },
  {
   "cell_type": "code",
   "execution_count": 9,
   "source": [
    "# use open function to read the content of a file \r\n",
    "f=open('sample.txt','r')\r\n",
    "#data=f.read()\r\n",
    "data=f.read(5)   #reads 5 character in files\r\n",
    "print(data)\r\n",
    "\r\n",
    "\r\n",
    "f.close()"
   ],
   "outputs": [
    {
     "output_type": "stream",
     "name": "stdout",
     "text": [
      "harry\n"
     ]
    }
   ],
   "metadata": {}
  },
  {
   "cell_type": "code",
   "execution_count": 16,
   "source": [
    "### READLINES IN MYFILE\r\n",
    "f=open('sample.txt','r')   # Read line print line line by line\r\n",
    "data=f.readline()\r\n",
    "print(data)\r\n",
    "data=f.readline()\r\n",
    "print(data)\r\n",
    "data=f.readline()\r\n",
    "print(data)\r\n",
    "data=f.readline()\r\n",
    "print(data)\r\n",
    "f.close()\r\n",
    "\r\n"
   ],
   "outputs": [
    {
     "output_type": "stream",
     "name": "stdout",
     "text": [
      "harry is a good boy.\n",
      "\n",
      "Sagar is my best friend \n",
      "\n",
      "more lines \n",
      "\n",
      "dahbn\n"
     ]
    }
   ],
   "metadata": {}
  },
  {
   "cell_type": "code",
   "execution_count": null,
   "source": [
    "# ### MOdes of opening a file\r\n",
    "# r-reading\r\n",
    "# w-write karne ke liye\r\n",
    "# a- at the end value Add karne kaliye\r\n",
    "# += read and write and update bhui ho jayegi\r\n",
    "\r\n",
    "# binary mode='rb'\r\n",
    "# Text mode-'rt\"\r\n",
    "\r\n",
    "\r\n"
   ],
   "outputs": [],
   "metadata": {}
  },
  {
   "cell_type": "code",
   "execution_count": 23,
   "source": [
    "#### Write files in file\r\n",
    "f=open('another.txt','w')\r\n",
    "f.write('please2 write modi is our prime minister')\r\n",
    "f.close()"
   ],
   "outputs": [],
   "metadata": {}
  },
  {
   "cell_type": "code",
   "execution_count": 24,
   "source": [
    "f=open('another.txt','a')\r\n",
    "f.write('I am the owner this program name is Sagar Rajkumar Gupta ')\r\n",
    "f.close()"
   ],
   "outputs": [],
   "metadata": {}
  },
  {
   "cell_type": "code",
   "execution_count": 25,
   "source": [
    "f=open('this.txt','w')\r\n",
    "f.write('This programe is very efficient for begginner')\r\n",
    "f.close()"
   ],
   "outputs": [],
   "metadata": {}
  },
  {
   "cell_type": "code",
   "execution_count": 28,
   "source": [
    "with open('another.txt','r') as f:\r\n",
    "    a=f.read()\r\n",
    "print(a)"
   ],
   "outputs": [
    {
     "output_type": "stream",
     "name": "stdout",
     "text": [
      "please2 write modi is our prime ministerI am the owner this program name is Sagar Rajkumar Gupta \n"
     ]
    }
   ],
   "metadata": {}
  },
  {
   "cell_type": "code",
   "execution_count": null,
   "source": [],
   "outputs": [],
   "metadata": {}
  },
  {
   "cell_type": "code",
   "execution_count": null,
   "source": [],
   "outputs": [],
   "metadata": {}
  },
  {
   "cell_type": "code",
   "execution_count": null,
   "source": [],
   "outputs": [],
   "metadata": {}
  }
 ],
 "metadata": {
  "orig_nbformat": 4,
  "language_info": {
   "name": "python",
   "version": "3.9.2",
   "mimetype": "text/x-python",
   "codemirror_mode": {
    "name": "ipython",
    "version": 3
   },
   "pygments_lexer": "ipython3",
   "nbconvert_exporter": "python",
   "file_extension": ".py"
  },
  "kernelspec": {
   "name": "python3",
   "display_name": "Python 3.9.2 64-bit"
  },
  "interpreter": {
   "hash": "122120f39d240b84c52ca793b26a2f60e4b4e9b185d3b7f727ac8c81a622592c"
  }
 },
 "nbformat": 4,
 "nbformat_minor": 2
}