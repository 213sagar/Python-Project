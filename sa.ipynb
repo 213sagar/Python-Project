{
 "cells": [
  {
   "cell_type": "code",
   "execution_count": 67,
   "source": [
    "print('sagar')"
   ],
   "outputs": [
    {
     "output_type": "stream",
     "name": "stdout",
     "text": [
      "sagar\n"
     ]
    }
   ],
   "metadata": {}
  },
  {
   "cell_type": "code",
   "execution_count": 68,
   "source": [
    "a=2\r\n",
    "v=3\r\n",
    "a+v"
   ],
   "outputs": [
    {
     "output_type": "execute_result",
     "data": {
      "text/plain": [
       "5"
      ]
     },
     "metadata": {},
     "execution_count": 68
    }
   ],
   "metadata": {}
  },
  {
   "cell_type": "code",
   "execution_count": 69,
   "source": [
    "# Start Python Course #This is a comment also\r\n",
    "# it is a jupyter lab \r\n",
    "\r\n",
    "# tkinter- Gui Developement\r\n",
    "\r\n",
    "# THIS IS A COMMMENT \r\n",
    "'''\r\n",
    "this is\r\n",
    "a multi \r\n",
    "line text for you'''\r\n",
    "\r\n"
   ],
   "outputs": [
    {
     "output_type": "execute_result",
     "data": {
      "text/plain": [
       "'\\nthis is\\na multi \\nline text for you'"
      ]
     },
     "metadata": {},
     "execution_count": 69
    }
   ],
   "metadata": {}
  },
  {
   "cell_type": "markdown",
   "source": [
    "# Take INput"
   ],
   "metadata": {}
  },
  {
   "cell_type": "code",
   "execution_count": 39,
   "source": [
    "num1=int(input('enter your 1st no: '))\r\n",
    "num2=int(input('ener your 2nd no: '))\r\n",
    "result=num1+num2\r\n",
    "print('so',num1,'+',num2,'=',result)\r\n",
    "print(\"so \"+ str(num1) + \"+\" + str(num2) + '=' + str(result))\r\n",
    "print('so {} + {} = {}'.format(num1,num2,result))  #{} Place Holder\r\n",
    "print('so %d + %d = %d'%(num1,num2,result))\r\n",
    "# d= decimal %f= float"
   ],
   "outputs": [
    {
     "output_type": "stream",
     "name": "stdout",
     "text": [
      "so 5 + 1257 = 1262\n",
      "so 5+1257=1262\n",
      "so 5 + 1257 = 1262\n",
      "so 5 + 1257 = 1262\n"
     ]
    }
   ],
   "metadata": {}
  },
  {
   "cell_type": "markdown",
   "source": [],
   "metadata": {}
  },
  {
   "cell_type": "markdown",
   "source": [
    "# arithmetic Operator"
   ],
   "metadata": {}
  },
  {
   "cell_type": "code",
   "execution_count": 40,
   "source": [
    "print(400+300)\r\n",
    "print(400-300)\r\n",
    "print(400*300)\r\n",
    "print(400/300)\r\n",
    "print(400//300)\r\n",
    "print(400%300)\r\n",
    "print(400**3)\r\n"
   ],
   "outputs": [
    {
     "output_type": "stream",
     "name": "stdout",
     "text": [
      "700\n",
      "100\n",
      "120000\n",
      "1.3333333333333333\n",
      "1\n",
      "100\n",
      "64000000\n"
     ]
    }
   ],
   "metadata": {}
  },
  {
   "cell_type": "code",
   "execution_count": 41,
   "source": [
    "# Logical Operator\r\n",
    "# Not And Or\r\n",
    "print(10>3 and 200>90)\r\n",
    "print(2>3 and 89>9)\r\n",
    "print(2>3 or 89>9)"
   ],
   "outputs": [
    {
     "output_type": "stream",
     "name": "stdout",
     "text": [
      "True\n",
      "False\n",
      "True\n"
     ]
    }
   ],
   "metadata": {}
  },
  {
   "cell_type": "code",
   "execution_count": 42,
   "source": [
    "## Coditional Statement\r\n",
    "a=int(input('enter your first no: '))\r\n",
    "b=int(input('enter your second no: '))\r\n",
    "c=int(input('enter your third no: '))\r\n",
    "if (a >= b and a >=c):\r\n",
    "    print('Maximum No is',a)\r\n",
    "    print('this is from if bolck')\r\n",
    "elif (b>=a and b>=c):\r\n",
    "    ('The maximum number is',b)\r\n",
    "    ('this is from elif block')\r\n",
    "else:\r\n",
    "    print('The maximum no is',c)\r\n",
    "    print('this is from else block')\r\n",
    "\r\n",
    "# we use anyone indent in if-else condition"
   ],
   "outputs": [],
   "metadata": {}
  },
  {
   "cell_type": "markdown",
   "source": [
    "## LOOP "
   ],
   "metadata": {}
  },
  {
   "cell_type": "code",
   "execution_count": 43,
   "source": [
    "# For Loop \r\n",
    "for i in range(1,10):\r\n",
    "    if (i==6):\r\n",
    "        continue\r\n",
    "        # break\r\n",
    "    print('i=',i)\r\n",
    "else:\r\n",
    "    print('this is else block executing')\r\n",
    "print('end of the programe')\r\n",
    "# break = coming out of the loop\r\n",
    "#  continue = next itreation please go for the next itreation"
   ],
   "outputs": [
    {
     "output_type": "stream",
     "name": "stdout",
     "text": [
      "i= 1\n",
      "i= 2\n",
      "i= 3\n",
      "i= 4\n",
      "i= 5\n",
      "i= 7\n",
      "i= 8\n",
      "i= 9\n",
      "this is else block executing\n",
      "end of the programe\n"
     ]
    }
   ],
   "metadata": {}
  },
  {
   "cell_type": "code",
   "execution_count": 44,
   "source": [
    "# what is the difference between pass and continue\r\n",
    "num1=100\r\n",
    "if num1 % 10 !=0:\r\n",
    "    pass      # Pass do nothing\r\n",
    "else:\r\n",
    "    print('number is not divisiable')"
   ],
   "outputs": [
    {
     "output_type": "stream",
     "name": "stdout",
     "text": [
      "number is not divisiable\n"
     ]
    }
   ],
   "metadata": {}
  },
  {
   "cell_type": "code",
   "execution_count": 45,
   "source": [
    "# while loop\r\n",
    "i=1\r\n",
    "while (i<=10):\r\n",
    "    print('i=',i)\r\n",
    "    i+=1\r\n",
    "else:\r\n",
    "    print('else block is executing smoothly')\r\n",
    "print('End of the programe ...')"
   ],
   "outputs": [
    {
     "output_type": "stream",
     "name": "stdout",
     "text": [
      "i= 1\n",
      "i= 2\n",
      "i= 3\n",
      "i= 4\n",
      "i= 5\n",
      "i= 6\n",
      "i= 7\n",
      "i= 8\n",
      "i= 9\n",
      "i= 10\n",
      "else block is executing smoothly\n",
      "End of the programe ...\n"
     ]
    }
   ],
   "metadata": {}
  },
  {
   "cell_type": "markdown",
   "source": [
    "### 2ND DAY"
   ],
   "metadata": {}
  },
  {
   "cell_type": "markdown",
   "source": [
    "### Dealing with the Functions"
   ],
   "metadata": {}
  },
  {
   "cell_type": "code",
   "execution_count": 46,
   "source": [
    "# List LIST\r\n",
    "list1=[11,1,2,4,3,'sagar',4.5]\r\n",
    "print(list1,len(list1),type(list1),id(list1))"
   ],
   "outputs": [
    {
     "output_type": "stream",
     "name": "stdout",
     "text": [
      "[11, 1, 2, 4, 3, 'sagar', 4.5] 7 <class 'list'> 2266420430336\n"
     ]
    }
   ],
   "metadata": {}
  },
  {
   "cell_type": "code",
   "execution_count": 47,
   "source": [
    "# Tuple\r\n",
    "tuple1=(11,1 ,1,2,1,'df',8.9)\r\n",
    "print(tuple1,len(tuple1),type(tuple1),id(tuple1))"
   ],
   "outputs": [
    {
     "output_type": "stream",
     "name": "stdout",
     "text": [
      "(11, 1, 1, 2, 1, 'df', 8.9) 7 <class 'tuple'> 2266407262048\n"
     ]
    }
   ],
   "metadata": {}
  },
  {
   "cell_type": "code",
   "execution_count": 48,
   "source": [
    "# array= similar datatype , static memory allocation\r\n",
    "# List= Diferenet Data type, many element inserted any time\r\n",
    " # DICTONARY- KEY VALUE PAIR\r\n",
    "dict1={'apple':120,'mango':110,'watermelon':10}\r\n",
    "print(dict1,type(dict1),len(dict1))"
   ],
   "outputs": [
    {
     "output_type": "stream",
     "name": "stdout",
     "text": [
      "{'apple': 120, 'mango': 110, 'watermelon': 10} <class 'dict'> 3\n"
     ]
    }
   ],
   "metadata": {}
  },
  {
   "cell_type": "code",
   "execution_count": 49,
   "source": [
    "set1={1,2,4,3,2,5,2,5,2,342}\r\n",
    "print(set1,len(set1))"
   ],
   "outputs": [
    {
     "output_type": "stream",
     "name": "stdout",
     "text": [
      "{1, 2, 3, 4, 5, 342} 6\n"
     ]
    }
   ],
   "metadata": {}
  },
  {
   "cell_type": "code",
   "execution_count": 50,
   "source": [
    "num1=100\r\n",
    "num2=num1\r\n",
    "print(num1,id(num1))\r\n",
    "print(num2,id(num2))"
   ],
   "outputs": [
    {
     "output_type": "stream",
     "name": "stdout",
     "text": [
      "100 2266331895248\n",
      "100 2266331895248\n"
     ]
    }
   ],
   "metadata": {}
  },
  {
   "cell_type": "code",
   "execution_count": 51,
   "source": [
    "def fun1():\r\n",
    "    print('hello '*5)\r\n",
    "fun1()\r\n",
    "fun1()\r\n"
   ],
   "outputs": [
    {
     "output_type": "stream",
     "name": "stdout",
     "text": [
      "hello hello hello hello hello \n",
      "hello hello hello hello hello \n"
     ]
    }
   ],
   "metadata": {}
  },
  {
   "cell_type": "code",
   "execution_count": 52,
   "source": [
    "def fun2(msg,times):  #     This is known as parameter\r\n",
    "    print(msg*times)\r\n",
    "fun2('welcome ',3)\r\n",
    "fun2('Hello ',7) # this is arguement"
   ],
   "outputs": [
    {
     "output_type": "stream",
     "name": "stdout",
     "text": [
      "welcome welcome welcome \n",
      "Hello Hello Hello Hello Hello Hello Hello \n"
     ]
    }
   ],
   "metadata": {}
  },
  {
   "cell_type": "code",
   "execution_count": 53,
   "source": [
    "def fun3(msg,times):\r\n",
    "    return(msg*times)\r\n",
    "result=fun3('Computer ',4)\r\n",
    "print(result)"
   ],
   "outputs": [
    {
     "output_type": "stream",
     "name": "stdout",
     "text": [
      "Computer Computer Computer Computer \n"
     ]
    }
   ],
   "metadata": {}
  },
  {
   "cell_type": "code",
   "execution_count": 54,
   "source": [
    "def func4(par1, par2=None):\r\n",
    "    if (par2 is None):\r\n",
    "        return par1 + par1\r\n",
    "    else:\r\n",
    "        return par1 + par2\r\n",
    "\r\n",
    "print(func4(299))\r\n",
    "print(func4(200,345))\r\n"
   ],
   "outputs": [
    {
     "output_type": "stream",
     "name": "stdout",
     "text": [
      "598\n",
      "545\n"
     ]
    }
   ],
   "metadata": {}
  },
  {
   "cell_type": "code",
   "execution_count": 55,
   "source": [
    "def funt6(num1,num2):\r\n",
    "    total=num1+num2\r\n",
    "    diff=num1-num2\r\n",
    "    prod=num1*num2\r\n",
    "    quot=num1/num2\r\n",
    "    return total,diff,prod,quot\r\n",
    "\r\n",
    "tt, dd , pp, qq=funt6(1000,400)\r\n",
    "\r\n",
    "\r\n",
    "print(f'so total = {tt} ,diff={dd},prod={pp} and quot ={qq}')\r\n",
    "print(type(func4))"
   ],
   "outputs": [
    {
     "output_type": "stream",
     "name": "stdout",
     "text": [
      "so total = 1400 ,diff=600,prod=400000 and quot =2.5\n",
      "<class 'function'>\n"
     ]
    }
   ],
   "metadata": {}
  },
  {
   "cell_type": "code",
   "execution_count": 56,
   "source": [
    "# function with variable number of arguements\r\n",
    "def func6(*arg):  # *arg= it is a tuple variable\r\n",
    "    print(arg,len(arg),type(arg))\r\n",
    "\r\n",
    "func6('apple','banana','cherry')\r\n",
    "func6('Monday','Friday','saturday','sunday')\r\n",
    "func6(111,333)\r\n"
   ],
   "outputs": [
    {
     "output_type": "stream",
     "name": "stdout",
     "text": [
      "('apple', 'banana', 'cherry') 3 <class 'tuple'>\n",
      "('Monday', 'Friday', 'saturday', 'sunday') 4 <class 'tuple'>\n",
      "(111, 333) 2 <class 'tuple'>\n"
     ]
    }
   ],
   "metadata": {}
  },
  {
   "cell_type": "code",
   "execution_count": 57,
   "source": [
    "def func8(**kwarg):  # ** kwarg= key-word argument\r\n",
    "    print(kwarg,len(kwarg),id(kwarg))\r\n",
    "\r\n",
    "func8(name='Sagar',Age=9,address='Pichhore',s=True)\r\n",
    "func8(momo=80,chowmin=120)"
   ],
   "outputs": [
    {
     "output_type": "stream",
     "name": "stdout",
     "text": [
      "{'name': 'Sagar', 'Age': 9, 'address': 'Pichhore', 's': True} 4 2266420667008\n",
      "{'momo': 80, 'chowmin': 120} 2 2266420649920\n"
     ]
    }
   ],
   "metadata": {}
  },
  {
   "cell_type": "code",
   "execution_count": 58,
   "source": [
    "def func9(*arg,**kwarg):\r\n",
    "    print(arg,len(arg),type(arg))\r\n",
    "    print(kwarg,len(kwarg),id(kwarg))\r\n",
    "\r\n",
    "func9(\"a\",\"b\",address='Pichhore',s=True,momo=80,chowmin=120)\r\n",
    "print(\"\")\r\n",
    "func9('apple','kela','angoor')\r\n",
    "print(\"\")\r\n",
    "func9(momo=90,chowmin=150,roll=10)\r\n"
   ],
   "outputs": [
    {
     "output_type": "stream",
     "name": "stdout",
     "text": [
      "('a', 'b') 2 <class 'tuple'>\n",
      "{'address': 'Pichhore', 's': True, 'momo': 80, 'chowmin': 120} 4 2266420649216\n",
      "\n",
      "('apple', 'kela', 'angoor') 3 <class 'tuple'>\n",
      "{} 0 2266407411776\n",
      "\n",
      "() 0 <class 'tuple'>\n",
      "{'momo': 90, 'chowmin': 150, 'roll': 10} 3 2266420667392\n"
     ]
    }
   ],
   "metadata": {}
  },
  {
   "cell_type": "code",
   "execution_count": 59,
   "source": [
    "i=10\r\n",
    "def func10():\r\n",
    "    i=190\r\n",
    "    print(i,id(i))\r\n",
    "\r\n",
    "print('Before calling func10() i =',i,id(i))\r\n",
    "func10()\r\n",
    "print('after calling func10() i =',i,id(i))\r\n"
   ],
   "outputs": [
    {
     "output_type": "stream",
     "name": "stdout",
     "text": [
      "Before calling func10() i = 10 2266331703888\n",
      "190 2266331898192\n",
      "after calling func10() i = 10 2266331703888\n"
     ]
    }
   ],
   "metadata": {}
  },
  {
   "cell_type": "code",
   "execution_count": 60,
   "source": [
    "i=10\r\n",
    "def func10():\r\n",
    "    global i\r\n",
    "    i=190\r\n",
    "    print(i,id(i))\r\n",
    "\r\n",
    "print('Before calling func10() i =',i,id(i))\r\n",
    "func10()\r\n",
    "print('after calling func10() i =',i,id(i))"
   ],
   "outputs": [
    {
     "output_type": "stream",
     "name": "stdout",
     "text": [
      "Before calling func10() i = 10 2266331703888\n",
      "190 2266331898192\n",
      "after calling func10() i = 190 2266331898192\n"
     ]
    }
   ],
   "metadata": {}
  },
  {
   "cell_type": "code",
   "execution_count": 61,
   "source": [
    "help(print)"
   ],
   "outputs": [
    {
     "output_type": "stream",
     "name": "stdout",
     "text": [
      "Help on built-in function print in module builtins:\n",
      "\n",
      "print(...)\n",
      "    print(value, ..., sep=' ', end='\\n', file=sys.stdout, flush=False)\n",
      "    \n",
      "    Prints the values to a stream, or to sys.stdout by default.\n",
      "    Optional keyword arguments:\n",
      "    file:  a file-like object (stream); defaults to the current sys.stdout.\n",
      "    sep:   string inserted between values, default a space.\n",
      "    end:   string appended after the last value, default a newline.\n",
      "    flush: whether to forcibly flush the stream.\n",
      "\n"
     ]
    }
   ],
   "metadata": {}
  },
  {
   "cell_type": "code",
   "execution_count": 62,
   "source": [
    "print('hello','welcome')\r\n",
    "print('Hello','sagar',sep=',')"
   ],
   "outputs": [
    {
     "output_type": "stream",
     "name": "stdout",
     "text": [
      "hello welcome\n",
      "Hello,sagar\n"
     ]
    }
   ],
   "metadata": {}
  },
  {
   "cell_type": "code",
   "execution_count": 63,
   "source": [
    "##  NON RECURSIVE FUNCTIONS\r\n",
    "def factorial_nr(num):\r\n",
    "    if(num==0 or num==1):  return 1\r\n",
    "    fact=1\r\n",
    "    for i in range(2, num + 1):\r\n",
    "        fact=fact*i\r\n",
    "    return fact\r\n",
    "\r\n",
    "print(factorial_nr(6))\r\n",
    "print(factorial_nr(0))\r\n"
   ],
   "outputs": [
    {
     "output_type": "stream",
     "name": "stdout",
     "text": [
      "720\n",
      "1\n"
     ]
    }
   ],
   "metadata": {}
  },
  {
   "cell_type": "code",
   "execution_count": 64,
   "source": [
    "# RECURSIVE FUNCTION\r\n",
    "def factorial_n(num):\r\n",
    "    if(num==0 or num==1):  # basecase\r\n",
    "        return 1\r\n",
    "    return num*factorial_n(num-1)  # Recursive Case\r\n",
    "print(factorial_n(6))\r\n",
    "print(factorial_n(0))\r\n",
    "print(factorial_n(1))"
   ],
   "outputs": [
    {
     "output_type": "stream",
     "name": "stdout",
     "text": [
      "720\n",
      "1\n",
      "1\n"
     ]
    }
   ],
   "metadata": {}
  },
  {
   "cell_type": "code",
   "execution_count": 65,
   "source": [
    "result=list(map(int, input(\"Enter a set of numbers:\").split()))\r\n",
    "print(result,type(result))\r\n",
    "\r\n",
    "# This is use for in codeshef programming problem defining in multi test step\r\n",
    "# Map= apply all the element in list"
   ],
   "outputs": [
    {
     "output_type": "stream",
     "name": "stdout",
     "text": [
      "[54] <class 'list'>\n"
     ]
    }
   ],
   "metadata": {}
  },
  {
   "cell_type": "code",
   "execution_count": 66,
   "source": [
    "def myfun11(mystr):\r\n",
    "    return len(mystr)\r\n",
    "list1=['Monday','Tuesday','Friday','sagar']\r\n",
    "result=list(map(myfun11,list1))\r\n",
    "print(result,type(result))"
   ],
   "outputs": [
    {
     "output_type": "stream",
     "name": "stdout",
     "text": [
      "[6, 7, 6, 5] <class 'list'>\n"
     ]
    }
   ],
   "metadata": {}
  },
  {
   "cell_type": "code",
   "execution_count": 71,
   "source": [
    "# SUM OF DIGITS\r\n",
    "#First line is a test case\r\n",
    "t=int(input())\r\n",
    "for i in range(t):\r\n",
    "    n=int(input())\r\n",
    "    total=0\r\n",
    "    while(n !=0):\r\n",
    "        last_digit=n%10\r\n",
    "        total=total+last_digit\r\n",
    "        n=n // 10\r\n",
    "    print(total)\r\n",
    "\r\n"
   ],
   "outputs": [
    {
     "output_type": "stream",
     "name": "stdout",
     "text": [
      "6\n",
      "29\n",
      "19\n"
     ]
    }
   ],
   "metadata": {}
  },
  {
   "cell_type": "markdown",
   "source": [
    "## DAY 3"
   ],
   "metadata": {}
  },
  {
   "cell_type": "markdown",
   "source": [
    "# LAMBDA FUNCTION"
   ],
   "metadata": {}
  },
  {
   "cell_type": "code",
   "execution_count": 72,
   "source": [
    "sagar=lambda num: num*num\r\n",
    "print(sagar(5))\r\n",
    "print(sagar(7))"
   ],
   "outputs": [
    {
     "output_type": "stream",
     "name": "stdout",
     "text": [
      "25\n",
      "49\n"
     ]
    }
   ],
   "metadata": {}
  },
  {
   "cell_type": "code",
   "execution_count": 75,
   "source": [
    "## Dealing with the math module\r\n",
    "import math\r\n",
    "print(math.gcd(100,45),math.gcd(200,70))\r\n",
    "print(math.pow(10,2))\r\n",
    "print(math.sin(0),math.cos(0),math.tan(0))\r\n",
    "print(math.log(100))\r\n",
    "print(math.factorial(5),math.pi)\r\n"
   ],
   "outputs": [
    {
     "output_type": "stream",
     "name": "stdout",
     "text": [
      "5 10\n",
      "100.0\n",
      "0.0 1.0 0.0\n",
      "4.605170185988092\n",
      "120 3.141592653589793\n"
     ]
    }
   ],
   "metadata": {}
  },
  {
   "cell_type": "markdown",
   "source": [
    "## String Processing"
   ],
   "metadata": {}
  },
  {
   "cell_type": "code",
   "execution_count": 7,
   "source": [
    "mystr='university'\r\n",
    "print(mystr[3],mystr[-7],mystr[7],mystr[-3])\r\n",
    "print(mystr,len(mystr),type(mystr),id(mystr))\r\n",
    "print(mystr[1],mystr[-9])\r\n",
    "print(mystr[3:6])\r\n",
    "print(mystr[::2],mystr[1::2],mystr[::-1])\r\n",
    "print(mystr[6:])\r\n",
    "\r\n",
    "## Slicing and Indexing"
   ],
   "outputs": [
    {
     "output_type": "stream",
     "name": "stdout",
     "text": [
      "v v i i\n",
      "university 10 <class 'str'> 2180071317808\n",
      "n n\n",
      "ver\n",
      "uiest nvriy ytisrevinu\n",
      "sity\n"
     ]
    }
   ],
   "metadata": {}
  },
  {
   "cell_type": "code",
   "execution_count": 11,
   "source": [
    "mysaa='saGarGupTA'\r\n",
    "print(mysaa,len(mysaa),type(mysaa),id(mysaa))\r\n",
    "print(mysaa.upper())\r\n",
    "print(mysaa.lower())\r\n",
    "print(mysaa.capitalize())\r\n",
    "print(mysaa.title())\r\n",
    "print(mysaa.swapcase())\r\n"
   ],
   "outputs": [
    {
     "output_type": "stream",
     "name": "stdout",
     "text": [
      "saGarGupTA 10 <class 'str'> 2180071417264\n",
      "SAGARGUPTA\n",
      "sagargupta\n",
      "Sagargupta\n",
      "Sagargupta\n",
      "SAgARgUPta\n"
     ]
    }
   ],
   "metadata": {}
  },
  {
   "cell_type": "code",
   "execution_count": 13,
   "source": [
    "mystr=\"sagarabcde\"\r\n",
    "print(mystr,mystr.isalpha(), mystr.isalnum(),mystr.isdigit())\r\n",
    "mystr='15234'\r\n",
    "print(mystr,mystr.isalpha(), mystr.isalnum(),mystr.isdigit())\r\n",
    "mystr='abdgjd#@@#$123456'\r\n",
    "print(mystr,mystr.isalpha(), mystr.isalnum(),mystr.isdigit())"
   ],
   "outputs": [
    {
     "output_type": "stream",
     "name": "stdout",
     "text": [
      "sagarabcde True True False\n",
      "15234 False True True\n",
      "abdgjd#@@#$123456 False False False\n"
     ]
    }
   ],
   "metadata": {}
  },
  {
   "cell_type": "code",
   "execution_count": 17,
   "source": [
    "mystr='university'\r\n",
    "print(mystr.find('k'))\r\n"
   ],
   "outputs": [
    {
     "output_type": "stream",
     "name": "stdout",
     "text": [
      "-1\n"
     ]
    }
   ],
   "metadata": {}
  },
  {
   "cell_type": "code",
   "execution_count": 20,
   "source": [
    "mystr='A'\r\n",
    "print(mystr,ord(mystr))  # Ord keyword is used for to convert character to ASKI CODE AND ASKI code to character\r\n",
    "myvar=65\r\n",
    "print(myvar,chr(myvar))"
   ],
   "outputs": [
    {
     "output_type": "stream",
     "name": "stdout",
     "text": [
      "A 65\n",
      "65 A\n"
     ]
    }
   ],
   "metadata": {}
  },
  {
   "cell_type": "code",
   "execution_count": 22,
   "source": [
    "mystr='    Welcome to all  '\r\n",
    "print(mystr,len(mystr))\r\n",
    "print(mystr.strip(),len(mystr.strip()))\r\n",
    "\r\n",
    "# .strip function is used to avoid countibng white spaces"
   ],
   "outputs": [
    {
     "output_type": "stream",
     "name": "stdout",
     "text": [
      "    Welcome to all   20\n",
      "Welcome to all 14\n"
     ]
    }
   ],
   "metadata": {}
  },
  {
   "cell_type": "markdown",
   "source": [
    "## JOIN AND SPLIT METHOD"
   ],
   "metadata": {}
  },
  {
   "cell_type": "code",
   "execution_count": 3,
   "source": [
    "## Split convert string into a list\r\n",
    "# mystr='charity should begin at home'\r\n",
    "# list1=mystr.split(\" \")\r\n",
    "# print(list1)\r\n",
    "\r\n",
    "## Join convert list to a character\r\n",
    "list1=['charity', 'should', 'begin', 'at', 'home']\r\n",
    "print(list1,type(list1))\r\n",
    "mystr=\"- \".join(list1)\r\n",
    "print(mystr,type(mystr))"
   ],
   "outputs": [
    {
     "output_type": "stream",
     "name": "stdout",
     "text": [
      "['charity', 'should', 'begin', 'at', 'home'] <class 'list'>\n",
      "charity- should- begin- at- home <class 'str'>\n"
     ]
    }
   ],
   "metadata": {}
  },
  {
   "cell_type": "code",
   "execution_count": 5,
   "source": [
    "### Dealing with the List\r\n",
    "#List is mutable\r\n",
    "list=[100,2,3,2,4,2]\r\n",
    "print(list,len(list),type(list))\r\n",
    "print(max(list),min(list))\r\n",
    "print(sum(list),sum(list)/len(list))\r\n"
   ],
   "outputs": [
    {
     "output_type": "stream",
     "name": "stdout",
     "text": [
      "[100, 2, 3, 2, 4, 2] 6 <class 'list'>\n",
      "100 2\n",
      "113 18.833333333333332\n"
     ]
    }
   ],
   "metadata": {}
  },
  {
   "cell_type": "code",
   "execution_count": 9,
   "source": [
    "list1=['red','green','black','pink']\r\n",
    "print(list1,len(list1),type(list1))\r\n",
    "print(max(list1),min(list1))\r\n",
    "#print(sum(list1),sum(list1)/len(list1))\r\n"
   ],
   "outputs": [
    {
     "output_type": "stream",
     "name": "stdout",
     "text": [
      "['red', 'green', 'black', 'pink'] 4 <class 'list'>\n",
      "red black\n"
     ]
    }
   ],
   "metadata": {}
  },
  {
   "cell_type": "code",
   "execution_count": 12,
   "source": [
    "list1=['red','green','black','pink',2,3,46,543]\r\n",
    "print(list1,len(list1),type(list1))\r\n",
    "#print(max(list1),min(list1))\r\n",
    "#print(sum(list1),sum(list1)/len(list1))"
   ],
   "outputs": [
    {
     "output_type": "stream",
     "name": "stdout",
     "text": [
      "['red', 'green', 'black', 'pink', 2, 3, 46, 543] 8 <class 'list'>\n"
     ]
    }
   ],
   "metadata": {}
  },
  {
   "cell_type": "code",
   "execution_count": 16,
   "source": [
    "list1=['red','green','black','pink']\r\n",
    "list2=['sun','mon','wed']\r\n",
    "list3=list1 + list2\r\n",
    "print(list3,len(list3))\r\n",
    "print(list3[2])\r\n",
    "print(list3[2][1:3])"
   ],
   "outputs": [
    {
     "output_type": "stream",
     "name": "stdout",
     "text": [
      "['red', 'green', 'black', 'pink', 'sun', 'mon', 'wed'] 7\n",
      "black\n",
      "la\n"
     ]
    }
   ],
   "metadata": {}
  },
  {
   "cell_type": "code",
   "execution_count": 17,
   "source": [
    "list1=['red','green','black','pink']\r\n",
    "list2=['sun','mon','wed']\r\n",
    "list3=[list1 , list2]\r\n",
    "print(list3,len(list3))\r\n",
    "print(list3[0][2],list3[1][0][1:])"
   ],
   "outputs": [
    {
     "output_type": "stream",
     "name": "stdout",
     "text": [
      "[['red', 'green', 'black', 'pink'], ['sun', 'mon', 'wed']] 2\n",
      "black un\n"
     ]
    }
   ],
   "metadata": {}
  },
  {
   "cell_type": "code",
   "execution_count": 21,
   "source": [
    "list4=['mmanjari','hindi','urdu']\r\n",
    "print(list4,len(list4))\r\n",
    "list4.append(\"golden\")\r\n",
    "list4.append('kalu')\r\n",
    "print(list4,len(list4))\r\n",
    "list4.insert(1,'sagar')\r\n",
    "print(list4)"
   ],
   "outputs": [
    {
     "output_type": "stream",
     "name": "stdout",
     "text": [
      "['mmanjari', 'hindi', 'urdu'] 3\n",
      "['mmanjari', 'hindi', 'urdu', 'golden', 'kalu'] 5\n",
      "['mmanjari', 'sagar', 'hindi', 'urdu', 'golden', 'kalu']\n"
     ]
    }
   ],
   "metadata": {}
  },
  {
   "cell_type": "code",
   "execution_count": 23,
   "source": [
    "list4=['mmanjari','hindi','urdu']\r\n",
    "print(list4)\r\n",
    "list4.remove('urdu')\r\n",
    "print(list4)\r\n",
    "del list4[1]\r\n",
    "print(list4)"
   ],
   "outputs": [
    {
     "output_type": "stream",
     "name": "stdout",
     "text": [
      "['mmanjari', 'hindi', 'urdu']\n",
      "['mmanjari', 'hindi']\n",
      "['mmanjari']\n"
     ]
    }
   ],
   "metadata": {}
  },
  {
   "cell_type": "code",
   "execution_count": 29,
   "source": [
    "# Dealing With te Dictonary\r\n",
    "dict1={'banana':'yellow',1:'kalu','black':'Grapes'}\r\n",
    "print(dict1,len(dict1),type(dict1),id(dict1))\r\n",
    "print(dict1.items())   # List of tuples\r\n",
    "print(dict1.keys())\r\n",
    "print(dict1.values())\r\n"
   ],
   "outputs": [
    {
     "output_type": "stream",
     "name": "stdout",
     "text": [
      "{'banana': 'yellow', 1: 'kalu', 'black': 'Grapes'} 3 <class 'dict'> 1858100539968\n",
      "dict_items([('banana', 'yellow'), (1, 'kalu'), ('black', 'Grapes')])\n",
      "dict_keys(['banana', 1, 'black'])\n",
      "dict_values(['yellow', 'kalu', 'Grapes'])\n"
     ]
    }
   ],
   "metadata": {}
  },
  {
   "cell_type": "code",
   "execution_count": 39,
   "source": [
    "dict1={'banana':'yellow',1:'kalu','black':'Grapes'}\r\n",
    "print(dict1,len(dict1),type(dict1),id(dict1))\r\n",
    "dict1['green']='Mango'\r\n",
    "print(dict1)\r\n",
    "print(dict1.get('banana')) # to get the particula value"
   ],
   "outputs": [
    {
     "output_type": "stream",
     "name": "stdout",
     "text": [
      "{'banana': 'yellow', 1: 'kalu', 'black': 'Grapes'} 3 <class 'dict'> 1858101130688\n",
      "{'banana': 'yellow', 1: 'kalu', 'black': 'Grapes', 'green': 'Mango'}\n",
      "yellow\n"
     ]
    }
   ],
   "metadata": {}
  },
  {
   "cell_type": "code",
   "execution_count": 43,
   "source": [
    "# DEALING WITH THE SET\r\n",
    "lit=[11,2,3,3,32,33,222,233,2,22,33,4,4342,22,11,22,]\r\n",
    "print(lit,len(lit),type(lit),id(lit))\r\n",
    "set2=set(lit)\r\n",
    "print(set2,len(set2),type(set2),id(set2))"
   ],
   "outputs": [
    {
     "output_type": "stream",
     "name": "stdout",
     "text": [
      "[11, 2, 3, 3, 32, 33, 222, 233, 2, 22, 33, 4, 4342, 22, 11, 22] 16 <class 'list'> 1858101117760\n",
      "{32, 33, 2, 3, 4, 233, 11, 22, 4342, 222} 10 <class 'set'> 1858101880192\n"
     ]
    }
   ],
   "metadata": {}
  },
  {
   "cell_type": "code",
   "execution_count": 44,
   "source": [
    "set1={100,200,500,100}\r\n",
    "print(set1,len(set1),type(set1))"
   ],
   "outputs": [
    {
     "output_type": "stream",
     "name": "stdout",
     "text": [
      "{200, 100, 500} 3 <class 'set'>\n"
     ]
    }
   ],
   "metadata": {}
  },
  {
   "cell_type": "code",
   "execution_count": 47,
   "source": [
    "# Set union opretion\r\n",
    "snakes={\"viper\",\"cobra\",'python'}\r\n",
    "\r\n",
    "langs={'c++','java','python','django'}\r\n",
    "print(snakes,len(snakes))\r\n",
    "print(langs,len(langs))\r\n",
    "result=langs.union(snakes)\r\n",
    "print(result,len(result))\r\n"
   ],
   "outputs": [
    {
     "output_type": "stream",
     "name": "stdout",
     "text": [
      "{'python', 'cobra', 'viper'} 3\n",
      "{'python', 'java', 'django', 'c++'} 4\n",
      "{'python', 'java', 'viper', 'cobra', 'django', 'c++'} 6\n"
     ]
    }
   ],
   "metadata": {}
  },
  {
   "cell_type": "code",
   "execution_count": 49,
   "source": [
    "# set intersection operation\r\n",
    "snakes={\"viper\",\"cobra\",'python'}\r\n",
    "\r\n",
    "langs={'c++','java','python','django'}\r\n",
    "print(snakes,len(snakes))\r\n",
    "print(langs,len(langs))\r\n",
    "result=langs.intersection(snakes)\r\n",
    "print(result,len(result))"
   ],
   "outputs": [
    {
     "output_type": "stream",
     "name": "stdout",
     "text": [
      "{'python', 'cobra', 'viper'} 3\n",
      "{'python', 'java', 'django', 'c++'} 4\n",
      "{'python'} 1\n"
     ]
    }
   ],
   "metadata": {}
  },
  {
   "cell_type": "code",
   "execution_count": 50,
   "source": [
    "# set difference\r\n",
    "snakes={\"viper\",\"cobra\",'python'}\r\n",
    "\r\n",
    "langs={'c++','java','python','django'}\r\n",
    "print(snakes,len(snakes))\r\n",
    "print(langs,len(langs))\r\n",
    "result=snakes.difference(langs)\r\n",
    "print(result,len(result))\r\n",
    "print(snakes,len(snakes))\r\n",
    "print(langs,len(langs))"
   ],
   "outputs": [
    {
     "output_type": "stream",
     "name": "stdout",
     "text": [
      "{'python', 'cobra', 'viper'} 3\n",
      "{'python', 'java', 'django', 'c++'} 4\n",
      "{'cobra', 'viper'} 2\n",
      "{'python', 'cobra', 'viper'} 3\n",
      "{'python', 'java', 'django', 'c++'} 4\n"
     ]
    }
   ],
   "metadata": {}
  },
  {
   "cell_type": "code",
   "execution_count": null,
   "source": [],
   "outputs": [],
   "metadata": {}
  }
 ],
 "metadata": {
  "orig_nbformat": 4,
  "language_info": {
   "name": "python",
   "version": "3.9.2",
   "mimetype": "text/x-python",
   "codemirror_mode": {
    "name": "ipython",
    "version": 3
   },
   "pygments_lexer": "ipython3",
   "nbconvert_exporter": "python",
   "file_extension": ".py"
  },
  "kernelspec": {
   "name": "python3",
   "display_name": "Python 3.9.2 64-bit"
  },
  "interpreter": {
   "hash": "122120f39d240b84c52ca793b26a2f60e4b4e9b185d3b7f727ac8c81a622592c"
  }
 },
 "nbformat": 4,
 "nbformat_minor": 2
}