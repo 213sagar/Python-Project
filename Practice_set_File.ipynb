{
 "cells": [
  {
   "cell_type": "code",
   "execution_count": 1,
   "source": [
    "f=open('poem.txt')\r\n",
    "t=f.read()\r\n",
    "if 'twincle' in t:\r\n",
    "    print('twincle is present')\r\n",
    "else:\r\n",
    "    print(\"twincle is not present\")\r\n",
    "f.close"
   ],
   "outputs": [
    {
     "output_type": "stream",
     "name": "stdout",
     "text": [
      "twincle is present\n"
     ]
    },
    {
     "output_type": "execute_result",
     "data": {
      "text/plain": [
       "<function TextIOWrapper.close()>"
      ]
     },
     "metadata": {},
     "execution_count": 1
    }
   ],
   "metadata": {}
  },
  {
   "cell_type": "code",
   "execution_count": 7,
   "source": [
    "def game():\r\n",
    "    return 446\r\n",
    "\r\n",
    "score = game()\r\n",
    "with  open('highscore.txt')  as f:\r\n",
    "    highscore = int(f.read())\r\n",
    "if highscore<score:\r\n",
    "    with open('highscore.txt','w') as f:\r\n",
    "        f.write(str(score))\r\n",
    "\r\n",
    "\r\n",
    "\r\n",
    "\r\n",
    "\r\n"
   ],
   "outputs": [],
   "metadata": {}
  },
  {
   "cell_type": "code",
   "execution_count": null,
   "source": [],
   "outputs": [],
   "metadata": {}
  }
 ],
 "metadata": {
  "orig_nbformat": 4,
  "language_info": {
   "name": "python",
   "version": "3.9.2",
   "mimetype": "text/x-python",
   "codemirror_mode": {
    "name": "ipython",
    "version": 3
   },
   "pygments_lexer": "ipython3",
   "nbconvert_exporter": "python",
   "file_extension": ".py"
  },
  "kernelspec": {
   "name": "python3",
   "display_name": "Python 3.9.2 64-bit"
  },
  "interpreter": {
   "hash": "122120f39d240b84c52ca793b26a2f60e4b4e9b185d3b7f727ac8c81a622592c"
  }
 },
 "nbformat": 4,
 "nbformat_minor": 2
}