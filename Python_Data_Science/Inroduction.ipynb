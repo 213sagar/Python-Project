{
 "cells": [
  {
   "attachments": {},
   "cell_type": "markdown",
   "metadata": {},
   "source": [
    "# Python Tutorial \n",
    "To download the python software so please follow this link -- https://www.python.org/downloads/"
   ]
  },
  {
   "cell_type": "code",
   "execution_count": 1,
   "metadata": {},
   "outputs": [
    {
     "name": "stdout",
     "output_type": "stream",
     "text": [
      "Welcome Guys in thisd course\n"
     ]
    }
   ],
   "source": [
    "# This is first program in this course\n",
    "print(\"Welcome Guys in thisd course\")"
   ]
  },
  {
   "attachments": {},
   "cell_type": "markdown",
   "metadata": {},
   "source": [
    "### Data Types"
   ]
  },
  {
   "cell_type": "code",
   "execution_count": null,
   "metadata": {},
   "outputs": [],
   "source": [
    "# Variable name must begin with a letter, dollar sign ($) or an underscore (_): ...\n",
    "# What you cannot start a variable name with: ...\n",
    "# You cannot use reserve words to name variables: ...\n",
    "# Variable are case sensitive: ...\n",
    "# Use variable names that describe the value:"
   ]
  },
  {
   "cell_type": "code",
   "execution_count": 33,
   "metadata": {},
   "outputs": [
    {
     "name": "stdout",
     "output_type": "stream",
     "text": [
      " the value of d -  sagar\n"
     ]
    }
   ],
   "source": [
    "## INteger float Strings Double Boolean \n",
    "a=10\n",
    "b=89\n",
    "c=88.3\n",
    "d='sagar'\n",
    "e=True\n",
    "\n",
    "print(' the value of d - ',d)\n"
   ]
  },
  {
   "cell_type": "code",
   "execution_count": 28,
   "metadata": {},
   "outputs": [
    {
     "name": "stdout",
     "output_type": "stream",
     "text": [
      "<class 'int'>\n",
      "<class 'int'>\n",
      "<class 'float'>\n",
      "<class 'str'>\n",
      "<class 'bool'>\n"
     ]
    }
   ],
   "source": [
    "# Data Types Checking - type keyword is used\n",
    "\n",
    "print(type(a))\n",
    "print(type(b))\n",
    "print(type(c))\n",
    "print(type(d))\n",
    "print(type(e))"
   ]
  },
  {
   "attachments": {},
   "cell_type": "markdown",
   "metadata": {},
   "source": [
    "### String DataType Creation \n"
   ]
  },
  {
   "cell_type": "code",
   "execution_count": 3,
   "metadata": {},
   "outputs": [
    {
     "name": "stdout",
     "output_type": "stream",
     "text": [
      "Sagar Rajkumar Gupta\n",
      "Hitesh Kumar Coudhary \n"
     ]
    }
   ],
   "source": [
    "# How to create string  in the python \n",
    "# We can create as a two ways like  - in single quote and also9 in double qoute\n",
    "a='Sagar Rajkumar Gupta'\n",
    "b=\"Hitesh Kumar Coudhary \"\n",
    "print(a)\n",
    "print(b)"
   ]
  },
  {
   "attachments": {},
   "cell_type": "markdown",
   "metadata": {},
   "source": [
    "## Mathematical Computation on data types "
   ]
  },
  {
   "cell_type": "code",
   "execution_count": 34,
   "metadata": {},
   "outputs": [
    {
     "name": "stdout",
     "output_type": "stream",
     "text": [
      "99\n",
      "-79\n",
      "890\n",
      "0.11235955056179775\n"
     ]
    }
   ],
   "source": [
    "print(a+b)\n",
    "print(a-b)\n",
    "print(a*b)\n",
    "print(a/b)"
   ]
  },
  {
   "attachments": {},
   "cell_type": "markdown",
   "metadata": {},
   "source": [
    "### Different way to print anyy sentence"
   ]
  },
  {
   "cell_type": "code",
   "execution_count": 36,
   "metadata": {},
   "outputs": [
    {
     "name": "stdout",
     "output_type": "stream",
     "text": [
      "hello raj \n",
      "my first name is raj and last name is lodhi \n"
     ]
    }
   ],
   "source": [
    "# First way\n",
    "print(\"hello raj \")\n",
    "# Second Way --   It is more helpful when we learn oop concept  \n",
    "first_name='raj'\n",
    "last_name='lodhi'\n",
    "print('my first name is {} and last name is {} '.format(first_name,last_name))"
   ]
  },
  {
   "cell_type": "code",
   "execution_count": 38,
   "metadata": {},
   "outputs": [
    {
     "name": "stdout",
     "output_type": "stream",
     "text": [
      "Our variable length of is -  15\n"
     ]
    }
   ],
   "source": [
    "# To find the length of the strings or list means how many character present in the list or strings\n",
    "a='sagar raj Gupta'\n",
    "print('Our variable length of is - ',len(a))"
   ]
  },
  {
   "cell_type": "code",
   "execution_count": 2,
   "metadata": {},
   "outputs": [
    {
     "name": "stdout",
     "output_type": "stream",
     "text": [
      "908\n",
      "8679\n"
     ]
    }
   ],
   "source": [
    "SAGAR=908\n",
    "sagar=8679\n",
    "print(SAGAR)\n",
    "print(sagar)"
   ]
  },
  {
   "cell_type": "code",
   "execution_count": null,
   "metadata": {},
   "outputs": [],
   "source": []
  }
 ],
 "metadata": {
  "kernelspec": {
   "display_name": "Python 3",
   "language": "python",
   "name": "python3"
  },
  "language_info": {
   "codemirror_mode": {
    "name": "ipython",
    "version": 3
   },
   "file_extension": ".py",
   "mimetype": "text/x-python",
   "name": "python",
   "nbconvert_exporter": "python",
   "pygments_lexer": "ipython3",
   "version": "3.9.6 (tags/v3.9.6:db3ff76, Jun 28 2021, 15:26:21) [MSC v.1929 64 bit (AMD64)]"
  },
  "orig_nbformat": 4,
  "vscode": {
   "interpreter": {
    "hash": "14958d3aee5f1cad06795f787e54b96185c25fb40dfec723a5be941f3a531b8c"
   }
  }
 },
 "nbformat": 4,
 "nbformat_minor": 2
}
