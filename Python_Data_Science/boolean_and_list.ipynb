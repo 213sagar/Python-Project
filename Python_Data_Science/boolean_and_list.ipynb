{
 "cells": [
  {
   "attachments": {},
   "cell_type": "markdown",
   "metadata": {},
   "source": [
    "## Boolean Variable \n",
    "A boolean expression(named for mathematician George Boole) is an expression that evaluates to either true or false"
   ]
  },
  {
   "cell_type": "code",
   "execution_count": 1,
   "metadata": {},
   "outputs": [
    {
     "data": {
      "text/plain": [
       "False"
      ]
     },
     "execution_count": 1,
     "metadata": {},
     "output_type": "execute_result"
    }
   ],
   "source": [
    "False"
   ]
  },
  {
   "cell_type": "code",
   "execution_count": 2,
   "metadata": {},
   "outputs": [
    {
     "data": {
      "text/plain": [
       "True"
      ]
     },
     "execution_count": 2,
     "metadata": {},
     "output_type": "execute_result"
    }
   ],
   "source": [
    "True"
   ]
  },
  {
   "cell_type": "code",
   "execution_count": 5,
   "metadata": {},
   "outputs": [
    {
     "data": {
      "text/plain": [
       "bool"
      ]
     },
     "execution_count": 5,
     "metadata": {},
     "output_type": "execute_result"
    }
   ],
   "source": [
    "type(True)"
   ]
  },
  {
   "cell_type": "code",
   "execution_count": 16,
   "metadata": {},
   "outputs": [
    {
     "name": "stdout",
     "output_type": "stream",
     "text": [
      "False\n"
     ]
    }
   ],
   "source": [
    "my_string='PythonDevelopmentCourse01'\n",
    "print(my_string.isdigit())"
   ]
  },
  {
   "attachments": {},
   "cell_type": "markdown",
   "metadata": {},
   "source": [
    "### Different String fuctions"
   ]
  },
  {
   "cell_type": "code",
   "execution_count": 17,
   "metadata": {},
   "outputs": [
    {
     "name": "stdout",
     "output_type": "stream",
     "text": [
      "True\n",
      "False\n",
      "False\n",
      "False\n",
      "False\n",
      "False\n",
      "False\n",
      "True\n",
      "True\n"
     ]
    }
   ],
   "source": [
    "print(my_string.isalnum()) #check if all the charcter are numbers \n",
    "print(my_string.isalpha())\n",
    "print(my_string.isdigit())\n",
    "print(my_string.istitle())\n",
    "print(my_string.isupper())\n",
    "print(my_string.islower())\n",
    "print(my_string.isspace())\n",
    "print(my_string.endswith('1'))\n",
    "print(my_string.startswith('P'))"
   ]
  },
  {
   "cell_type": "code",
   "execution_count": 18,
   "metadata": {},
   "outputs": [
    {
     "data": {
      "text/plain": [
       "False"
      ]
     },
     "execution_count": 18,
     "metadata": {},
     "output_type": "execute_result"
    }
   ],
   "source": [
    "# LOgical and Logical Operation\n",
    "True and False"
   ]
  },
  {
   "cell_type": "code",
   "execution_count": 19,
   "metadata": {},
   "outputs": [
    {
     "data": {
      "text/plain": [
       "False"
      ]
     },
     "execution_count": 19,
     "metadata": {},
     "output_type": "execute_result"
    }
   ],
   "source": [
    "False and True"
   ]
  },
  {
   "cell_type": "code",
   "execution_count": 20,
   "metadata": {},
   "outputs": [
    {
     "data": {
      "text/plain": [
       "True"
      ]
     },
     "execution_count": 20,
     "metadata": {},
     "output_type": "execute_result"
    }
   ],
   "source": [
    "True and True "
   ]
  },
  {
   "cell_type": "code",
   "execution_count": 22,
   "metadata": {},
   "outputs": [
    {
     "data": {
      "text/plain": [
       "True"
      ]
     },
     "execution_count": 22,
     "metadata": {},
     "output_type": "execute_result"
    }
   ],
   "source": [
    "True or False"
   ]
  },
  {
   "attachments": {},
   "cell_type": "markdown",
   "metadata": {},
   "source": [
    "### Inbuilt Data Structure "
   ]
  },
  {
   "attachments": {},
   "cell_type": "markdown",
   "metadata": {},
   "source": [
    "#### 1.List\n",
    "A Python list is an ordered and changeable collection of data objects"
   ]
  },
  {
   "cell_type": "code",
   "execution_count": 24,
   "metadata": {},
   "outputs": [
    {
     "data": {
      "text/plain": [
       "list"
      ]
     },
     "execution_count": 24,
     "metadata": {},
     "output_type": "execute_result"
    }
   ],
   "source": [
    "type([])# List is created iin the square bracket \n"
   ]
  },
  {
   "cell_type": "code",
   "execution_count": 25,
   "metadata": {},
   "outputs": [],
   "source": [
    "# How\n",
    "#  to create the empty list \n",
    "empty_list=[]# This is empty list "
   ]
  },
  {
   "cell_type": "code",
   "execution_count": 26,
   "metadata": {},
   "outputs": [
    {
     "name": "stdout",
     "output_type": "stream",
     "text": [
      "Our hOusehold list is -  ['dal', 'kela', 'matar', 2, 56, 24.5]\n"
     ]
    }
   ],
   "source": [
    "# Filled list creation - it can contain all different type of data types inside the list \n",
    "houseHold_Things= ['dal','kela','matar',2,56,24.5]\n",
    "print('Our hOusehold list is - ',houseHold_Things)"
   ]
  },
  {
   "attachments": {},
   "cell_type": "markdown",
   "metadata": {},
   "source": [
    "### Different operation that we can perform on list "
   ]
  },
  {
   "cell_type": "code",
   "execution_count": 27,
   "metadata": {},
   "outputs": [
    {
     "name": "stdout",
     "output_type": "stream",
     "text": [
      "Before appending new element in the list ['dal', 'kela', 'matar', 2, 56, 24.5]\n",
      "After appending new element in the list ['dal', 'kela', 'matar', 2, 56, 24.5, 'aalu']\n"
     ]
    }
   ],
   "source": [
    "### Append Opeartion \n",
    "print('Before appending new element in the list',houseHold_Things)\n",
    "houseHold_Things.append('aalu')\n",
    "print('After appending new element in the list',houseHold_Things)\n"
   ]
  },
  {
   "cell_type": "code",
   "execution_count": 31,
   "metadata": {},
   "outputs": [
    {
     "name": "stdout",
     "output_type": "stream",
     "text": [
      "houseHold_Things list is -  ['dal', 'kela', 'matar', 2, 56, 24.5, 'aalu', 'sagar', 'milk', 'sagar', 'milk']\n"
     ]
    }
   ],
   "source": [
    "### Extend opeartion - by this we can append more than one  item  in the list \n",
    "houseHold_Things.extend(['sagar','milk'])\n",
    "print('houseHold_Things list is - ',houseHold_Things)"
   ]
  },
  {
   "cell_type": "code",
   "execution_count": 32,
   "metadata": {},
   "outputs": [
    {
     "name": "stdout",
     "output_type": "stream",
     "text": [
      "11\n"
     ]
    }
   ],
   "source": [
    "## To find the length - length opeartion (Function )\n",
    "print(len(houseHold_Things))"
   ]
  },
  {
   "cell_type": "code",
   "execution_count": 40,
   "metadata": {},
   "outputs": [
    {
     "name": "stdout",
     "output_type": "stream",
     "text": [
      "['dal', 'kela', 'matar', 2, 56, 24.5, 'aalu', 'sagar', 'milk', 'sagar', 'milk']\n",
      "['dal', 'kela', 'Dhananjay More', 'matar', 2, 56, 24.5, 'aalu', 'sagar', 'milk', 'sagar', 'milk']\n"
     ]
    }
   ],
   "source": [
    "## Insert Function \n",
    "print(houseHold_Things)\n",
    "houseHold_Things.insert(2,'Dhananjay More')# 2 is our index\n",
    "print(houseHold_Things)"
   ]
  },
  {
   "cell_type": "code",
   "execution_count": 45,
   "metadata": {},
   "outputs": [
    {
     "data": {
      "text/plain": [
       "5224"
      ]
     },
     "execution_count": 45,
     "metadata": {},
     "output_type": "execute_result"
    }
   ],
   "source": [
    "## Sum function \n",
    "numbers=[23,234,5,342,3,3,4554,35,23,2]\n",
    "sum(numbers)"
   ]
  },
  {
   "cell_type": "code",
   "execution_count": 46,
   "metadata": {},
   "outputs": [
    {
     "data": {
      "text/plain": [
       "2"
      ]
     },
     "execution_count": 46,
     "metadata": {},
     "output_type": "execute_result"
    }
   ],
   "source": [
    "# Pop Function - for removal \n",
    "numbers.pop()# It removes last element automatically, We can also give the specific index\""
   ]
  },
  {
   "cell_type": "code",
   "execution_count": 48,
   "metadata": {},
   "outputs": [
    {
     "data": {
      "text/plain": [
       "2"
      ]
     },
     "execution_count": 48,
     "metadata": {},
     "output_type": "execute_result"
    }
   ],
   "source": [
    "##cOUNT Function\n",
    "numbers.count(23) # It will give the total occourance means(How many times it came in the list)"
   ]
  },
  {
   "cell_type": "code",
   "execution_count": 52,
   "metadata": {},
   "outputs": [
    {
     "name": "stdout",
     "output_type": "stream",
     "text": [
      "3\n",
      "4554\n"
     ]
    }
   ],
   "source": [
    "## min and max function\n",
    "print(min(numbers))\n",
    "print(max(numbers))"
   ]
  },
  {
   "attachments": {},
   "cell_type": "markdown",
   "metadata": {},
   "source": [
    "### Indexing - it is used to take element from the list \n",
    "one more import thing in indexing is first item is inclusive(Means that is counted for printing) and but the last element is exclusice(Means that is not considered for printing )"
   ]
  },
  {
   "cell_type": "code",
   "execution_count": 39,
   "metadata": {},
   "outputs": [
    {
     "name": "stdout",
     "output_type": "stream",
     "text": [
      "dal\n",
      "milk\n",
      "milk\n",
      "['kela', 'matar', 2, 56]\n",
      "['milk', 'sagar', 'milk', 'sagar', 'aalu', 24.5, 56, 2, 'matar', 'kela', 'dal']\n"
     ]
    }
   ],
   "source": [
    "## Indexing starting from 0 and we have one topic like negative indexing in that we will start our indexing from the last element \n",
    "houseHold_Things=['dal', 'kela', 'matar', 2, 56, 24.5, 'aalu', 'sagar', 'milk', 'sagar', 'milk']\n",
    "print(houseHold_Things[0]) # Printing the first element of the list \n",
    "print(houseHold_Things[10]) # Printing  the last element from the list \n",
    "print(houseHold_Things[-1]) # we can also do this by using negative indexing \n",
    "#Lets we have to print kela to 56 \n",
    "print(houseHold_Things[1:5])\n",
    "# For reverse the list we can do this \n",
    "print(houseHold_Things[::-1])\n",
    "\n",
    "#[start:stop:step]- means where we start and what is the end element and step means we have to print every first or third value from the list "
   ]
  },
  {
   "cell_type": "code",
   "execution_count": null,
   "metadata": {},
   "outputs": [],
   "source": []
  }
 ],
 "metadata": {
  "kernelspec": {
   "display_name": "Python 3",
   "language": "python",
   "name": "python3"
  },
  "language_info": {
   "codemirror_mode": {
    "name": "ipython",
    "version": 3
   },
   "file_extension": ".py",
   "mimetype": "text/x-python",
   "name": "python",
   "nbconvert_exporter": "python",
   "pygments_lexer": "ipython3",
   "version": "3.9.6"
  },
  "orig_nbformat": 4,
  "vscode": {
   "interpreter": {
    "hash": "14958d3aee5f1cad06795f787e54b96185c25fb40dfec723a5be941f3a531b8c"
   }
  }
 },
 "nbformat": 4,
 "nbformat_minor": 2
}
