{
 "cells": [
  {
   "attachments": {},
   "cell_type": "markdown",
   "metadata": {},
   "source": [
    "### Numpy Library\n",
    "It is used to create multi dimentional matrix creation. it contains different array operations. It is used  in dtaa science"
   ]
  },
  {
   "cell_type": "code",
   "execution_count": 2,
   "metadata": {},
   "outputs": [],
   "source": [
    "## To download the Numpy library = pip install numpy\n",
    " "
   ]
  },
  {
   "attachments": {},
   "cell_type": "markdown",
   "metadata": {},
   "source": [
    "### Array \n",
    "It is basically one type data structure is similar to list data structure. But main differenece is here it only contain similar data type inside in it"
   ]
  },
  {
   "cell_type": "code",
   "execution_count": 3,
   "metadata": {},
   "outputs": [],
   "source": [
    "# Importing Numpy library as np \n",
    "import numpy as np "
   ]
  },
  {
   "cell_type": "code",
   "execution_count": 4,
   "metadata": {},
   "outputs": [
    {
     "name": "stdout",
     "output_type": "stream",
     "text": [
      "Values of array is [ 23 445  43]\n",
      "The datatype of arr <class 'numpy.ndarray'>\n"
     ]
    }
   ],
   "source": [
    "my_list=[23,445,43]\n",
    "arr=np.array(my_list)\n",
    "print('Values of array is',arr)\n",
    "print('The datatype of arr',type(arr))  # This is one dimention array \n"
   ]
  },
  {
   "cell_type": "code",
   "execution_count": 5,
   "metadata": {},
   "outputs": [
    {
     "data": {
      "text/plain": [
       "(3,)"
      ]
     },
     "execution_count": 5,
     "metadata": {},
     "output_type": "execute_result"
    }
   ],
   "source": [
    "# To check the dimention we use shape function\n",
    "arr.shape"
   ]
  },
  {
   "cell_type": "code",
   "execution_count": 6,
   "metadata": {},
   "outputs": [
    {
     "name": "stdout",
     "output_type": "stream",
     "text": [
      "two dimention array is \n",
      " [[    234     242   31242       3       4]\n",
      " [     24    3412 4443434       5       4]\n",
      " [     34   32414    5314       4       4]]\n"
     ]
    }
   ],
   "source": [
    "### Creation of two dimention array \n",
    "a=[234,242,31242,3,4]\n",
    "b=[24,3412,4443434,5,4]\n",
    "c=[34,32414,5314,4,4]\n",
    "all_combine=np.array([a,b,c])\n",
    "print('two dimention array is \\n',all_combine)\n"
   ]
  },
  {
   "cell_type": "code",
   "execution_count": 7,
   "metadata": {},
   "outputs": [
    {
     "data": {
      "text/plain": [
       "array([[    234,     242,   31242,       3,       4],\n",
       "       [     24,    3412, 4443434,       5,       4],\n",
       "       [     34,   32414,    5314,       4,       4]])"
      ]
     },
     "execution_count": 7,
     "metadata": {},
     "output_type": "execute_result"
    }
   ],
   "source": [
    "all_combine"
   ]
  },
  {
   "cell_type": "code",
   "execution_count": 8,
   "metadata": {},
   "outputs": [
    {
     "data": {
      "text/plain": [
       "(3, 5)"
      ]
     },
     "execution_count": 8,
     "metadata": {},
     "output_type": "execute_result"
    }
   ],
   "source": [
    "all_combine.shape"
   ]
  },
  {
   "cell_type": "code",
   "execution_count": 9,
   "metadata": {},
   "outputs": [
    {
     "data": {
      "text/plain": [
       "array([[    234,     242,   31242],\n",
       "       [      3,       4,      24],\n",
       "       [   3412, 4443434,       5],\n",
       "       [      4,      34,   32414],\n",
       "       [   5314,       4,       4]])"
      ]
     },
     "execution_count": 9,
     "metadata": {},
     "output_type": "execute_result"
    }
   ],
   "source": [
    "all_combine.reshape(5,3) # here i convert matrix that is 3*5 to 5*3"
   ]
  },
  {
   "attachments": {},
   "cell_type": "markdown",
   "metadata": {},
   "source": [
    "### Idexing of the array "
   ]
  },
  {
   "cell_type": "code",
   "execution_count": 10,
   "metadata": {},
   "outputs": [
    {
     "name": "stdout",
     "output_type": "stream",
     "text": [
      "[  2   3   2 334   3  33]\n",
      "334\n"
     ]
    }
   ],
   "source": [
    "new_array=np.array([2,3,2,334,3,33])\n",
    "print(new_array)\n",
    "print(new_array[3])"
   ]
  },
  {
   "cell_type": "code",
   "execution_count": 11,
   "metadata": {},
   "outputs": [
    {
     "name": "stdout",
     "output_type": "stream",
     "text": [
      "[[    234     242   31242       3       4]\n",
      " [     24    3412 4443434       5       4]\n",
      " [     34   32414    5314       4       4]]\n"
     ]
    }
   ],
   "source": [
    "# in two dimention\n",
    "all_combine=np.array([a,b,c])\n",
    "print(all_combine[:,:])  # This means we have to print all  the rows and columns."
   ]
  },
  {
   "cell_type": "code",
   "execution_count": 12,
   "metadata": {},
   "outputs": [
    {
     "data": {
      "text/plain": [
       "array([[ 234,  242],\n",
       "       [  24, 3412]])"
      ]
     },
     "execution_count": 12,
     "metadata": {},
     "output_type": "execute_result"
    }
   ],
   "source": [
    "all_combine[0:2,0:2]# Printing  the first two rows and first two cloumns element "
   ]
  },
  {
   "cell_type": "code",
   "execution_count": 13,
   "metadata": {},
   "outputs": [
    {
     "data": {
      "text/plain": [
       "array([[   3412, 4443434],\n",
       "       [  32414,    5314]])"
      ]
     },
     "execution_count": 13,
     "metadata": {},
     "output_type": "execute_result"
    }
   ],
   "source": [
    "all_combine[1:,1:3]"
   ]
  },
  {
   "attachments": {},
   "cell_type": "markdown",
   "metadata": {},
   "source": [
    "### Inbuilt Function"
   ]
  },
  {
   "cell_type": "code",
   "execution_count": 16,
   "metadata": {},
   "outputs": [
    {
     "name": "stdout",
     "output_type": "stream",
     "text": [
      "[0 2 4 6 8]\n"
     ]
    }
   ],
   "source": [
    "arr11=np.arange(0,10,2)# Start stop and step \n",
    "print(arr11)"
   ]
  },
  {
   "cell_type": "code",
   "execution_count": 17,
   "metadata": {},
   "outputs": [
    {
     "data": {
      "text/plain": [
       "array([ 1.        ,  1.18367347,  1.36734694,  1.55102041,  1.73469388,\n",
       "        1.91836735,  2.10204082,  2.28571429,  2.46938776,  2.65306122,\n",
       "        2.83673469,  3.02040816,  3.20408163,  3.3877551 ,  3.57142857,\n",
       "        3.75510204,  3.93877551,  4.12244898,  4.30612245,  4.48979592,\n",
       "        4.67346939,  4.85714286,  5.04081633,  5.2244898 ,  5.40816327,\n",
       "        5.59183673,  5.7755102 ,  5.95918367,  6.14285714,  6.32653061,\n",
       "        6.51020408,  6.69387755,  6.87755102,  7.06122449,  7.24489796,\n",
       "        7.42857143,  7.6122449 ,  7.79591837,  7.97959184,  8.16326531,\n",
       "        8.34693878,  8.53061224,  8.71428571,  8.89795918,  9.08163265,\n",
       "        9.26530612,  9.44897959,  9.63265306,  9.81632653, 10.        ])"
      ]
     },
     "execution_count": 17,
     "metadata": {},
     "output_type": "execute_result"
    }
   ],
   "source": [
    "np.linspace(1,10)"
   ]
  },
  {
   "cell_type": "code",
   "execution_count": 19,
   "metadata": {},
   "outputs": [
    {
     "name": "stdout",
     "output_type": "stream",
     "text": [
      "[  0   2   4 100 100]\n"
     ]
    }
   ],
   "source": [
    "# copy function in array \n",
    "arr11[3:]=100\n",
    "print(arr11)"
   ]
  },
  {
   "cell_type": "code",
   "execution_count": 22,
   "metadata": {},
   "outputs": [
    {
     "name": "stdout",
     "output_type": "stream",
     "text": [
      "[  0   2   4 500 500]\n",
      "[  0   2   4 500 500]\n"
     ]
    }
   ],
   "source": [
    "# Copy function and  broadcasting \n",
    "arr_copied_version=arr11  # When we assign one array into another array that time its connected each other. Like if we change anything one array it will reflect another array to \n",
    "arr_copied_version[3:]=500\n",
    "print(arr_copied_version)\n",
    "print(arr11)"
   ]
  },
  {
   "cell_type": "code",
   "execution_count": 27,
   "metadata": {},
   "outputs": [
    {
     "name": "stdout",
     "output_type": "stream",
     "text": [
      "The before arr11 values is  [  0   2   4 500 500]\n",
      "The new copied array values is  [  0   2   4 500 500]\n",
      "\n",
      "The before arr11 values is  [   0    2    4 2405 2405]\n",
      "The new copied array values is  [  0   2   4 500 500]\n"
     ]
    }
   ],
   "source": [
    "print('The before arr11 values is ',arr11)\n",
    "arr_copy=arr11.copy()\n",
    "print('The new copied array values is ',arr_copy)\n",
    "# Now we are changing in the arr11 array and let's see what change is there\n",
    "arr11[3:]=2405\n",
    "\n",
    "print('\\nThe before arr11 values is ',arr11)\n",
    "print('The new copied array values is ',arr_copy)\n"
   ]
  },
  {
   "cell_type": "code",
   "execution_count": 32,
   "metadata": {},
   "outputs": [
    {
     "name": "stdout",
     "output_type": "stream",
     "text": [
      "[[0 1]\n",
      " [2 3]\n",
      " [4 5]\n",
      " [6 7]\n",
      " [8 9]]\n",
      "[[15 16]\n",
      " [17 18]\n",
      " [19 20]\n",
      " [21 22]\n",
      " [23 24]]\n"
     ]
    }
   ],
   "source": [
    "# Create arrays and reshape \n",
    "b=np.arange(15,25).reshape(5,2)\n",
    "a=np.arange(0,10).reshape(5,2)\n",
    "print(a)\n",
    "print(b)"
   ]
  },
  {
   "cell_type": "code",
   "execution_count": 34,
   "metadata": {},
   "outputs": [
    {
     "name": "stdout",
     "output_type": "stream",
     "text": [
      "[[15 17]\n",
      " [19 21]\n",
      " [23 25]\n",
      " [27 29]\n",
      " [31 33]]\n",
      "[[-15 -15]\n",
      " [-15 -15]\n",
      " [-15 -15]\n",
      " [-15 -15]\n",
      " [-15 -15]]\n",
      "[[  0  16]\n",
      " [ 34  54]\n",
      " [ 76 100]\n",
      " [126 154]\n",
      " [184 216]]\n"
     ]
    }
   ],
   "source": [
    "# Different Mathematical Operation\n",
    "print(a+b)\n",
    "print(a-b)\n",
    "print(a*b)\n"
   ]
  },
  {
   "cell_type": "code",
   "execution_count": 36,
   "metadata": {},
   "outputs": [
    {
     "name": "stdout",
     "output_type": "stream",
     "text": [
      "[1 1 1 1]\n"
     ]
    },
    {
     "data": {
      "text/plain": [
       "array([[1, 1, 1, 1, 1],\n",
       "       [1, 1, 1, 1, 1]])"
      ]
     },
     "execution_count": 36,
     "metadata": {},
     "output_type": "execute_result"
    }
   ],
   "source": [
    "# Creating ones and zeros array \n",
    "aa=np.ones(4,dtype=int)\n",
    "print(aa)\n",
    "np.ones((2,5),dtype=int)"
   ]
  },
  {
   "cell_type": "code",
   "execution_count": 38,
   "metadata": {},
   "outputs": [
    {
     "name": "stdout",
     "output_type": "stream",
     "text": [
      "[[0.86323679 0.0607643  0.46452143]\n",
      " [0.71618435 0.78607375 0.49099927]\n",
      " [0.43889612 0.16405581 0.90198927]]\n"
     ]
    }
   ],
   "source": [
    "# Random distribution \n",
    "a=np.random.rand(3,3)\n",
    "print(a)"
   ]
  },
  {
   "cell_type": "code",
   "execution_count": 40,
   "metadata": {},
   "outputs": [
    {
     "name": "stdout",
     "output_type": "stream",
     "text": [
      "[ 0.33254743  0.10444169 -1.11242294  0.87848373 -2.15804924 -0.54582493\n",
      " -0.90047027 -0.61716866  0.66042949 -0.35600764]\n"
     ]
    }
   ],
   "source": [
    "arr_exp=np.random.randn(10)\n",
    "print(arr_exp)"
   ]
  },
  {
   "cell_type": "code",
   "execution_count": 42,
   "metadata": {},
   "outputs": [
    {
     "data": {
      "text/plain": [
       "array([[-1.43820276,  0.22742991, -0.11330941,  0.02595675,  0.06152943,\n",
       "        -0.70972507]])"
      ]
     },
     "execution_count": 42,
     "metadata": {},
     "output_type": "execute_result"
    }
   ],
   "source": [
    "np.random.randn(1,6)"
   ]
  },
  {
   "cell_type": "code",
   "execution_count": 43,
   "metadata": {},
   "outputs": [
    {
     "data": {
      "text/plain": [
       "array([88, 15, 78,  2, 57])"
      ]
     },
     "execution_count": 43,
     "metadata": {},
     "output_type": "execute_result"
    }
   ],
   "source": [
    "np.random.randint(1,100,5)"
   ]
  },
  {
   "cell_type": "code",
   "execution_count": null,
   "metadata": {},
   "outputs": [],
   "source": []
  }
 ],
 "metadata": {
  "kernelspec": {
   "display_name": "Python 3",
   "language": "python",
   "name": "python3"
  },
  "language_info": {
   "codemirror_mode": {
    "name": "ipython",
    "version": 3
   },
   "file_extension": ".py",
   "mimetype": "text/x-python",
   "name": "python",
   "nbconvert_exporter": "python",
   "pygments_lexer": "ipython3",
   "version": "3.9.6 (tags/v3.9.6:db3ff76, Jun 28 2021, 15:26:21) [MSC v.1929 64 bit (AMD64)]"
  },
  "orig_nbformat": 4,
  "vscode": {
   "interpreter": {
    "hash": "14958d3aee5f1cad06795f787e54b96185c25fb40dfec723a5be941f3a531b8c"
   }
  }
 },
 "nbformat": 4,
 "nbformat_minor": 2
}
