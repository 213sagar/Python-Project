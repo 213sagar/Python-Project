{
 "cells": [
  {
   "attachments": {},
   "cell_type": "markdown",
   "metadata": {},
   "source": [
    "## Sets -- it does not support indexin\n",
    "Sets are used to store multiple items in a single variable.\n",
    "\n",
    "Set is one of 4 built-in data types in Python used to store collections of data, the other 3 are List, Tuple, and Dictionary, all with different qualities and usage.\n",
    "\n",
    "A set is a collection which is unordered, unchangeable*, and unindexed."
   ]
  },
  {
   "cell_type": "code",
   "execution_count": 2,
   "metadata": {},
   "outputs": [
    {
     "name": "stdout",
     "output_type": "stream",
     "text": [
      "set()\n"
     ]
    },
    {
     "data": {
      "text/plain": [
       "set"
      ]
     },
     "execution_count": 2,
     "metadata": {},
     "output_type": "execute_result"
    }
   ],
   "source": [
    "# Empty set \n",
    "set_var=set()\n",
    "print(set_var)\n",
    "type(set_var)"
   ]
  },
  {
   "cell_type": "code",
   "execution_count": 3,
   "metadata": {},
   "outputs": [
    {
     "name": "stdout",
     "output_type": "stream",
     "text": [
      "{'Gupta', 2, 3, 4, 'sagar', 'suhana'}\n"
     ]
    }
   ],
   "source": [
    "## checking the it can contain duplicate value or not \n",
    "set1={2,3,4,2,'sagar','Gupta','suhana','sagar'}\n",
    "print(set1)"
   ]
  },
  {
   "attachments": {},
   "cell_type": "markdown",
   "metadata": {},
   "source": [
    "### Set Function\n"
   ]
  },
  {
   "cell_type": "code",
   "execution_count": 4,
   "metadata": {},
   "outputs": [
    {
     "name": "stdout",
     "output_type": "stream",
     "text": [
      "{'Gupta', 2, 3, 4, 'sagar', '989', 'suhana'}\n"
     ]
    }
   ],
   "source": [
    "# add function \n",
    "set1.add('989')\n",
    "print(set1)"
   ]
  },
  {
   "cell_type": "code",
   "execution_count": 6,
   "metadata": {},
   "outputs": [
    {
     "data": {
      "text/plain": [
       "{2, 'Dhanajay', 'Python', 'Raj', 'sagar'}"
      ]
     },
     "execution_count": 6,
     "metadata": {},
     "output_type": "execute_result"
    }
   ],
   "source": [
    "## difference - all the common element eleminated and only the distict values are printed by this function\n",
    "a={'sagar','Raj','Dhanajay','Python',1,2,3}\n",
    "b={'Raj,','Kumar',1,4,3,'GuptaJi'}\n",
    "a.difference(b)"
   ]
  },
  {
   "cell_type": "code",
   "execution_count": 7,
   "metadata": {},
   "outputs": [
    {
     "data": {
      "text/plain": [
       "{1, 3}"
      ]
     },
     "execution_count": 7,
     "metadata": {},
     "output_type": "execute_result"
    }
   ],
   "source": [
    "#Intersection - print all the common values in the list \n",
    "\n",
    "a.intersection(b)"
   ]
  },
  {
   "cell_type": "code",
   "execution_count": 8,
   "metadata": {},
   "outputs": [
    {
     "data": {
      "text/plain": [
       "{1, 2, 3, 4, 'Dhanajay', 'GuptaJi', 'Kumar', 'Python', 'Raj', 'Raj,', 'sagar'}"
      ]
     },
     "execution_count": 8,
     "metadata": {},
     "output_type": "execute_result"
    }
   ],
   "source": [
    "#Union - to make such that contains all the \n",
    "a.union(b)"
   ]
  },
  {
   "attachments": {},
   "cell_type": "markdown",
   "metadata": {},
   "source": [
    "### Dictonary\n",
    "Dictionaries are used to store data values in key:value pairs.\n",
    "\n",
    "A dictionary is a collection which is ordered*, changeable and do not allow duplicates.\n",
    "\n",
    "Dictionaries are written with curly brackets, and have keys and values:"
   ]
  },
  {
   "cell_type": "code",
   "execution_count": 1,
   "metadata": {},
   "outputs": [
    {
     "name": "stdout",
     "output_type": "stream",
     "text": [
      "{'sagar': 12231, 'suhana': 9876, 123: 23456, 'a': 90, 'Prathmesh': 'cgpa 9.6'}\n"
     ]
    }
   ],
   "source": [
    "#Creation of dictonary \n",
    "dict1={'sagar':12231,'suhana':9876,123:23456,'a':90,'Prathmesh':'cgpa 9.6'}\n",
    "print(dict1)"
   ]
  },
  {
   "cell_type": "code",
   "execution_count": 3,
   "metadata": {},
   "outputs": [
    {
     "data": {
      "text/plain": [
       "12231"
      ]
     },
     "execution_count": 3,
     "metadata": {},
     "output_type": "execute_result"
    }
   ],
   "source": [
    "# Indexing - we can retrive data by typing the key value in the dict[] this form \n",
    "dict1['sagar']"
   ]
  },
  {
   "cell_type": "code",
   "execution_count": 4,
   "metadata": {},
   "outputs": [
    {
     "name": "stdout",
     "output_type": "stream",
     "text": [
      "Previous  dictonary is -  {'sagar': 12231, 'suhana': 9876, 123: 23456, 'a': 90, 'Prathmesh': 'cgpa 9.6'}\n",
      "Updated dictonary is -  {'sagar': 12231, 'suhana': 9876, 123: 23456, 'a': 90, 'Prathmesh': 'cgpa 9.6', 'ASCII': '256 bits'}\n"
     ]
    }
   ],
   "source": [
    "# Adding new item in the dictonary \n",
    "print('Previous  dictonary is - ',dict1)\n",
    "dict1['ASCII']='256 bits'\n",
    "print('Updated dictonary is - ',dict1)\n"
   ]
  },
  {
   "cell_type": "code",
   "execution_count": 5,
   "metadata": {},
   "outputs": [
    {
     "name": "stdout",
     "output_type": "stream",
     "text": [
      "Updated dictonary is -  {'sagar': 2405, 'suhana': 9876, 123: 23456, 'a': 90, 'Prathmesh': 'cgpa 9.6', 'ASCII': '256 bits'}\n"
     ]
    }
   ],
   "source": [
    "# Updation in the dictonary \n",
    "dict1['sagar']=2405\n",
    "print('Updated dictonary is - ',dict1)"
   ]
  },
  {
   "attachments": {},
   "cell_type": "markdown",
   "metadata": {},
   "source": [
    "### Different function in dictonary \n"
   ]
  },
  {
   "cell_type": "code",
   "execution_count": 19,
   "metadata": {},
   "outputs": [
    {
     "name": "stdout",
     "output_type": "stream",
     "text": [
      "All keys from the dictonary are present here - dict_keys(['suhana', 123, 'Prathmesh', 'ASCII'])\n",
      "All Values from the dictonary are present here - dict_values([9876, 23456, 'cgpa 9.6', '256 bits'])\n",
      "All key-Value Pair  from the dictonary are present here - dict_items([('suhana', 9876), (123, 23456), ('Prathmesh', 'cgpa 9.6'), ('ASCII', '256 bits')])\n",
      "Updated dictonaty after deletion of  key pair -  {123: 23456, 'Prathmesh': 'cgpa 9.6', 'ASCII': '256 bits'}\n"
     ]
    }
   ],
   "source": [
    "\n",
    "print('All keys from the dictonary are present here -',dict1.keys())\n",
    "print('All Values from the dictonary are present here -',dict1.values())\n",
    "print('All key-Value Pair  from the dictonary are present here -',dict1.items())\n",
    "dict1.pop(\"suhana\")\n",
    "#Note - key value pair in tuple data structure format \n",
    "\n",
    "print('Updated dictonaty after deletion of  key pair - ',dict1)"
   ]
  },
  {
   "cell_type": "code",
   "execution_count": 9,
   "metadata": {},
   "outputs": [
    {
     "name": "stdout",
     "output_type": "stream",
     "text": [
      "{}\n",
      "<class 'dict'>\n"
     ]
    }
   ],
   "source": [
    "# How to create empty dictonary -- There two ways to create the empty dictonary \n",
    "\n",
    "dictonary1=dict()\n",
    "print(dictonary1)\n",
    "print(type(dictonary1))"
   ]
  },
  {
   "cell_type": "code",
   "execution_count": 10,
   "metadata": {},
   "outputs": [
    {
     "name": "stdout",
     "output_type": "stream",
     "text": [
      "{}\n",
      "<class 'dict'>\n"
     ]
    }
   ],
   "source": [
    "dictonary2={}\n",
    "print(dictonary2)\n",
    "print(type(dictonary2))"
   ]
  },
  {
   "attachments": {},
   "cell_type": "markdown",
   "metadata": {},
   "source": [
    "### Tuple \n",
    "Tuple is a unmutable data type means we can not update the tuple. It is similar to list. It use the () this type of bracket for creation."
   ]
  },
  {
   "cell_type": "code",
   "execution_count": 20,
   "metadata": {},
   "outputs": [
    {
     "name": "stdout",
     "output_type": "stream",
     "text": [
      "(1,)\n",
      "(12, 3, 4354, 3.43, 432.3, 2, ';;;dssfda', 'Raj', 'Python')\n"
     ]
    }
   ],
   "source": [
    "Tuple1=(1,)# Tuple with one value \n",
    "Tuple2=(12,3,4354,3.43,432.3,2,';;;dssfda','Raj','Python')\n",
    "print(Tuple1)\n",
    "print(Tuple2)"
   ]
  },
  {
   "cell_type": "code",
   "execution_count": 28,
   "metadata": {},
   "outputs": [
    {
     "name": "stdout",
     "output_type": "stream",
     "text": [
      "3.43\n",
      "Python\n",
      "3.43\n",
      "(4354, 3.43, 432.3, 2, ';;;dssfda')\n",
      "(12, 3, 4354, 3.43, 432.3, 2, ';;;dssfda', 'Raj', 'Python')\n",
      "('Python', 'Raj', ';;;dssfda', 2, 432.3, 3.43, 4354, 3, 12)\n"
     ]
    }
   ],
   "source": [
    "# Indexing \n",
    "print(Tuple2[3])\n",
    "print(Tuple2[8])\n",
    "print(Tuple2[-6])\n",
    "\n",
    "\n",
    "# sCILICING \n",
    "print(Tuple2[2:7])\n",
    "print(Tuple2[:])# This means we have to print all the items from the tuple \n",
    "print(Tuple2[::-1]) # For reverse printing "
   ]
  },
  {
   "cell_type": "code",
   "execution_count": 31,
   "metadata": {},
   "outputs": [
    {
     "name": "stdout",
     "output_type": "stream",
     "text": [
      "1\n",
      "8\n"
     ]
    }
   ],
   "source": [
    "# Different function in Tuple\n",
    "print(Tuple2.count('Raj'))   ### Count Function \n",
    "print(Tuple2.index('Python'))  ## Index Function"
   ]
  },
  {
   "cell_type": "code",
   "execution_count": null,
   "metadata": {},
   "outputs": [],
   "source": []
  }
 ],
 "metadata": {
  "kernelspec": {
   "display_name": "Python 3",
   "language": "python",
   "name": "python3"
  },
  "language_info": {
   "codemirror_mode": {
    "name": "ipython",
    "version": 3
   },
   "file_extension": ".py",
   "mimetype": "text/x-python",
   "name": "python",
   "nbconvert_exporter": "python",
   "pygments_lexer": "ipython3",
   "version": "3.9.6 (tags/v3.9.6:db3ff76, Jun 28 2021, 15:26:21) [MSC v.1929 64 bit (AMD64)]"
  },
  "orig_nbformat": 4,
  "vscode": {
   "interpreter": {
    "hash": "14958d3aee5f1cad06795f787e54b96185c25fb40dfec723a5be941f3a531b8c"
   }
  }
 },
 "nbformat": 4,
 "nbformat_minor": 2
}
